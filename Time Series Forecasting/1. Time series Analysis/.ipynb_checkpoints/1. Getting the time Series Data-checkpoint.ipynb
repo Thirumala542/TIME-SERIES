{
 "cells": [
  {
   "cell_type": "code",
   "execution_count": 7,
   "metadata": {},
   "outputs": [],
   "source": [
    "#!pip install yfinance"
   ]
  },
  {
   "cell_type": "code",
   "execution_count": 8,
   "metadata": {},
   "outputs": [],
   "source": [
    "import yfinance as yf"
   ]
  },
  {
   "cell_type": "markdown",
   "metadata": {},
   "source": [
    "## Amazon Time Series data"
   ]
  },
  {
   "cell_type": "code",
   "execution_count": 12,
   "metadata": {},
   "outputs": [
    {
     "name": "stdout",
     "output_type": "stream",
     "text": [
      "[*********************100%***********************]  1 of 1 completed\n"
     ]
    }
   ],
   "source": [
    "\n",
    "data = yf.download('AMZN',start='2019-01-01', end='2019-12-31')"
   ]
  },
  {
   "cell_type": "code",
   "execution_count": 13,
   "metadata": {},
   "outputs": [
    {
     "data": {
      "text/html": [
       "<div>\n",
       "<style scoped>\n",
       "    .dataframe tbody tr th:only-of-type {\n",
       "        vertical-align: middle;\n",
       "    }\n",
       "\n",
       "    .dataframe tbody tr th {\n",
       "        vertical-align: top;\n",
       "    }\n",
       "\n",
       "    .dataframe thead th {\n",
       "        text-align: right;\n",
       "    }\n",
       "</style>\n",
       "<table border=\"1\" class=\"dataframe\">\n",
       "  <thead>\n",
       "    <tr style=\"text-align: right;\">\n",
       "      <th></th>\n",
       "      <th>Open</th>\n",
       "      <th>High</th>\n",
       "      <th>Low</th>\n",
       "      <th>Close</th>\n",
       "      <th>Adj Close</th>\n",
       "      <th>Volume</th>\n",
       "    </tr>\n",
       "    <tr>\n",
       "      <th>Date</th>\n",
       "      <th></th>\n",
       "      <th></th>\n",
       "      <th></th>\n",
       "      <th></th>\n",
       "      <th></th>\n",
       "      <th></th>\n",
       "    </tr>\n",
       "  </thead>\n",
       "  <tbody>\n",
       "    <tr>\n",
       "      <th>2019-01-02 00:00:00-05:00</th>\n",
       "      <td>73.260002</td>\n",
       "      <td>77.667999</td>\n",
       "      <td>73.046501</td>\n",
       "      <td>76.956497</td>\n",
       "      <td>76.956497</td>\n",
       "      <td>159662000</td>\n",
       "    </tr>\n",
       "    <tr>\n",
       "      <th>2019-01-03 00:00:00-05:00</th>\n",
       "      <td>76.000504</td>\n",
       "      <td>76.900002</td>\n",
       "      <td>74.855499</td>\n",
       "      <td>75.014000</td>\n",
       "      <td>75.014000</td>\n",
       "      <td>139512000</td>\n",
       "    </tr>\n",
       "    <tr>\n",
       "      <th>2019-01-04 00:00:00-05:00</th>\n",
       "      <td>76.500000</td>\n",
       "      <td>79.699997</td>\n",
       "      <td>75.915497</td>\n",
       "      <td>78.769501</td>\n",
       "      <td>78.769501</td>\n",
       "      <td>183652000</td>\n",
       "    </tr>\n",
       "    <tr>\n",
       "      <th>2019-01-07 00:00:00-05:00</th>\n",
       "      <td>80.115501</td>\n",
       "      <td>81.727997</td>\n",
       "      <td>79.459503</td>\n",
       "      <td>81.475502</td>\n",
       "      <td>81.475502</td>\n",
       "      <td>159864000</td>\n",
       "    </tr>\n",
       "    <tr>\n",
       "      <th>2019-01-08 00:00:00-05:00</th>\n",
       "      <td>83.234497</td>\n",
       "      <td>83.830498</td>\n",
       "      <td>80.830498</td>\n",
       "      <td>82.829002</td>\n",
       "      <td>82.829002</td>\n",
       "      <td>177628000</td>\n",
       "    </tr>\n",
       "  </tbody>\n",
       "</table>\n",
       "</div>"
      ],
      "text/plain": [
       "                                Open       High        Low      Close  \\\n",
       "Date                                                                    \n",
       "2019-01-02 00:00:00-05:00  73.260002  77.667999  73.046501  76.956497   \n",
       "2019-01-03 00:00:00-05:00  76.000504  76.900002  74.855499  75.014000   \n",
       "2019-01-04 00:00:00-05:00  76.500000  79.699997  75.915497  78.769501   \n",
       "2019-01-07 00:00:00-05:00  80.115501  81.727997  79.459503  81.475502   \n",
       "2019-01-08 00:00:00-05:00  83.234497  83.830498  80.830498  82.829002   \n",
       "\n",
       "                           Adj Close     Volume  \n",
       "Date                                             \n",
       "2019-01-02 00:00:00-05:00  76.956497  159662000  \n",
       "2019-01-03 00:00:00-05:00  75.014000  139512000  \n",
       "2019-01-04 00:00:00-05:00  78.769501  183652000  \n",
       "2019-01-07 00:00:00-05:00  81.475502  159864000  \n",
       "2019-01-08 00:00:00-05:00  82.829002  177628000  "
      ]
     },
     "execution_count": 13,
     "metadata": {},
     "output_type": "execute_result"
    }
   ],
   "source": [
    "data.head()"
   ]
  },
  {
   "cell_type": "code",
   "execution_count": null,
   "metadata": {},
   "outputs": [],
   "source": []
  }
 ],
 "metadata": {
  "kernelspec": {
   "display_name": "Python 3 (ipykernel)",
   "language": "python",
   "name": "python3"
  },
  "language_info": {
   "codemirror_mode": {
    "name": "ipython",
    "version": 3
   },
   "file_extension": ".py",
   "mimetype": "text/x-python",
   "name": "python",
   "nbconvert_exporter": "python",
   "pygments_lexer": "ipython3",
   "version": "3.9.12"
  }
 },
 "nbformat": 4,
 "nbformat_minor": 4
}
